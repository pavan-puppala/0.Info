{
 "cells": [
  {
   "cell_type": "markdown",
   "metadata": {},
   "source": [
    "## Steps to Remember\n",
    "- open www.github.com\n",
    "- create github account\n",
    "- create a repo goto profile  -->  your Repository --> New --> Repo name, public, Add a Readme file\n",
    "- create Security on main branch --> Settings --> branches --> branch name(main or master) --> enable first 3 check boxes --> create\n",
    "\n",
    "##  Git SCM\n",
    "- download git bash software https://git-scm.com/downloads\n",
    "- install git\n",
    "\n",
    "- create git folder in c drive --> inside 'git' folder create another folder 'git_yyyymmdd' --> right click 'git bash'"
   ]
  },
  {
   "cell_type": "markdown",
   "metadata": {},
   "source": [
    "#### clone the code from github repo to local repo\n",
    "- open a folder --> right click 'git bash here' --> type 'git' enter(to get all commands)\n",
    "- command(git clone 'paste github url')   --> enter\n",
    "- until you find .git navigate to that area by (cd foldername/)"
   ]
  },
  {
   "cell_type": "markdown",
   "metadata": {},
   "source": [
    "#### NOTE:\n",
    "- red color   - local/index area(pavan_zkr2kq8)\n",
    "- green color - stagging area(reportspack)\n",
    "- white color - git area\n",
    "- branch means team members"
   ]
  },
  {
   "cell_type": "markdown",
   "metadata": {},
   "source": [
    "- git checkout -b '6499_puppala01'\n",
    "- git status    (nothing to commit, working tree clean means github repor and local repo are on same stage)\n",
    "- git add .     (add all files from local area to stagging area)\n",
    "- git add file_name\n",
    "- git commit -m \"message\"    (commit all files in stagging area to git area)\n",
    "- git push origin branch_name (git to cloud)"
   ]
  },
  {
   "cell_type": "code",
   "execution_count": null,
   "metadata": {},
   "outputs": [],
   "source": []
  }
 ],
 "metadata": {
  "kernelspec": {
   "display_name": "Python 3",
   "language": "python",
   "name": "python3"
  },
  "language_info": {
   "codemirror_mode": {
    "name": "ipython",
    "version": 3
   },
   "file_extension": ".py",
   "mimetype": "text/x-python",
   "name": "python",
   "nbconvert_exporter": "python",
   "pygments_lexer": "ipython3",
   "version": "3.6.5"
  }
 },
 "nbformat": 4,
 "nbformat_minor": 2
}
